{
  "nbformat": 4,
  "nbformat_minor": 0,
  "metadata": {
    "kernelspec": {
      "name": "python3",
      "display_name": "Python 3",
      "language": "python"
    },
    "language_info": {
      "name": "python",
      "version": "3.7.6",
      "mimetype": "text/x-python",
      "codemirror_mode": {
        "name": "ipython",
        "version": 3
      },
      "pygments_lexer": "ipython3",
      "nbconvert_exporter": "python",
      "file_extension": ".py"
    },
    "colab": {
      "name": "image-classification-on-american-sign-language-dataset.ipynb",
      "provenance": [],
      "include_colab_link": true
    },
    "accelerator": "GPU"
  },
  "cells": [
    {
      "cell_type": "markdown",
      "metadata": {
        "id": "view-in-github",
        "colab_type": "text"
      },
      "source": [
        "<a href=\"https://colab.research.google.com/github/sreeja-g/image-classification-on-american-sign-language-dataset/blob/master/image_classification_on_american_sign_language_dataset.ipynb\" target=\"_parent\"><img src=\"https://colab.research.google.com/assets/colab-badge.svg\" alt=\"Open In Colab\"/></a>"
      ]
    },
    {
      "cell_type": "code",
      "metadata": {
        "_uuid": "8f2839f25d086af736a60e9eeb907d3b93b6e0e5",
        "_cell_guid": "b1076dfc-b9ad-4769-8c92-a6c4dae69d19",
        "trusted": true,
        "id": "afl6D_PqgpwP",
        "colab_type": "code",
        "colab": {}
      },
      "source": [
        "!pip install jovian --upgrade --quiet"
      ],
      "execution_count": null,
      "outputs": []
    },
    {
      "cell_type": "code",
      "metadata": {
        "trusted": true,
        "id": "j3e39jVGgpwU",
        "colab_type": "code",
        "colab": {},
        "outputId": "8303cf81-7cea-4c30-f230-f8a2cfceb9ea"
      },
      "source": [
        "import jovian\n",
        "project_name = 'image-classification-on-american-sign-language-dataset'"
      ],
      "execution_count": null,
      "outputs": [
        {
          "output_type": "display_data",
          "data": {
            "text/plain": [
              "<IPython.core.display.Javascript object>"
            ],
            "application/javascript": [
              "if (window.IPython && IPython.notebook.kernel) IPython.notebook.kernel.execute('jovian.utils.jupyter.get_notebook_name_saved = lambda: \"' + IPython.notebook.notebook_name + '\"')"
            ]
          },
          "metadata": {
            "tags": []
          }
        }
      ]
    },
    {
      "cell_type": "markdown",
      "metadata": {
        "id": "tHPLGoUQgpwY",
        "colab_type": "text"
      },
      "source": [
        "# Preparing Data"
      ]
    },
    {
      "cell_type": "code",
      "metadata": {
        "_uuid": "d629ff2d2480ee46fbb7e2d37f6b5fab8052498a",
        "_cell_guid": "79c7e3d0-c299-4dcb-8224-4455121ee9b0",
        "trusted": true,
        "id": "MWg0ZkcGgpwY",
        "colab_type": "code",
        "colab": {}
      },
      "source": [
        "import os\n",
        "os.chdir('/kaggle/input/sign-language-mnist/')"
      ],
      "execution_count": null,
      "outputs": []
    },
    {
      "cell_type": "code",
      "metadata": {
        "trusted": true,
        "id": "4nLmuqVegpwd",
        "colab_type": "code",
        "colab": {}
      },
      "source": [
        "import pandas as pd\n",
        "import numpy as np\n",
        "import matplotlib.pyplot as plt"
      ],
      "execution_count": null,
      "outputs": []
    },
    {
      "cell_type": "code",
      "metadata": {
        "trusted": true,
        "id": "KJiycuYjgpwg",
        "colab_type": "code",
        "colab": {}
      },
      "source": [
        "train_data = pd.read_csv('sign_mnist_train.csv')\n",
        "test_data = pd.read_csv('sign_mnist_test.csv')"
      ],
      "execution_count": null,
      "outputs": []
    },
    {
      "cell_type": "code",
      "metadata": {
        "trusted": true,
        "id": "LpsEkkxlgpwl",
        "colab_type": "code",
        "colab": {},
        "outputId": "ea0e97d9-5ad4-49af-b318-f0e46847af41"
      },
      "source": [
        "train_data.shape, test_data.shape"
      ],
      "execution_count": null,
      "outputs": [
        {
          "output_type": "execute_result",
          "data": {
            "text/plain": [
              "((27455, 785), (7172, 785))"
            ]
          },
          "metadata": {
            "tags": []
          },
          "execution_count": 7
        }
      ]
    },
    {
      "cell_type": "code",
      "metadata": {
        "trusted": true,
        "id": "vhh_r2S6gpwp",
        "colab_type": "code",
        "colab": {}
      },
      "source": [
        "def dataframe_to_arrays(dataframe):\n",
        "    \n",
        "    inputs_array = dataframe.iloc[:, 1:].to_numpy()\n",
        "    targets_array = dataframe['label'].to_numpy()\n",
        "    \n",
        "    return inputs_array, targets_array"
      ],
      "execution_count": null,
      "outputs": []
    },
    {
      "cell_type": "code",
      "metadata": {
        "trusted": true,
        "id": "HjSTuN3Agpws",
        "colab_type": "code",
        "colab": {},
        "outputId": "0f73f280-a351-43e7-b181-740cffcec049"
      },
      "source": [
        "inputs_array, targets_array = dataframe_to_arrays(train_data)\n",
        "inputs_array, targets_array"
      ],
      "execution_count": null,
      "outputs": [
        {
          "output_type": "execute_result",
          "data": {
            "text/plain": [
              "(array([[107, 118, 127, ..., 204, 203, 202],\n",
              "        [155, 157, 156, ..., 103, 135, 149],\n",
              "        [187, 188, 188, ..., 195, 194, 195],\n",
              "        ...,\n",
              "        [174, 174, 174, ..., 202, 200, 200],\n",
              "        [177, 181, 184, ...,  64,  87,  93],\n",
              "        [179, 180, 180, ..., 205, 209, 215]]),\n",
              " array([ 3,  6,  2, ..., 18, 17, 23]))"
            ]
          },
          "metadata": {
            "tags": []
          },
          "execution_count": 9
        }
      ]
    },
    {
      "cell_type": "code",
      "metadata": {
        "trusted": true,
        "id": "Z3wMu8EZgpwv",
        "colab_type": "code",
        "colab": {},
        "outputId": "fb4e65fe-0cec-4262-8767-aeee5b763f36"
      },
      "source": [
        "image = np.reshape(inputs_array[0], (28, 28))\n",
        "plt.imshow(image, cmap = \"gray\")\n",
        "plt.show()\n",
        "\n",
        "print(\"Alphabet : \", chr(65+targets_array[0]))"
      ],
      "execution_count": null,
      "outputs": [
        {
          "output_type": "display_data",
          "data": {
            "text/plain": [
              "<Figure size 432x288 with 1 Axes>"
            ],
            "image/png": "[encoded data removed]"
          },
          "metadata": {
            "tags": [],
            "needs_background": "light"
          }
        },
        {
          "output_type": "stream",
          "text": [
            "Alphabet :  D\n"
          ],
          "name": "stdout"
        }
      ]
    },
    {
      "cell_type": "code",
      "metadata": {
        "trusted": true,
        "id": "LeSsn1xxgpwy",
        "colab_type": "code",
        "colab": {}
      },
      "source": [
        "import torch\n",
        "from torch.utils.data import DataLoader, TensorDataset, random_split"
      ],
      "execution_count": null,
      "outputs": []
    },
    {
      "cell_type": "code",
      "metadata": {
        "trusted": true,
        "id": "f4cSCchigpw1",
        "colab_type": "code",
        "colab": {}
      },
      "source": [
        "inputs = torch.tensor(inputs_array , dtype=torch.float32)\n",
        "targets = torch.tensor(targets_array , dtype=torch.long)"
      ],
      "execution_count": null,
      "outputs": []
    },
    {
      "cell_type": "code",
      "metadata": {
        "trusted": true,
        "id": "05nL8OcOgpw3",
        "colab_type": "code",
        "colab": {}
      },
      "source": [
        "dataset = TensorDataset(inputs, targets)"
      ],
      "execution_count": null,
      "outputs": []
    },
    {
      "cell_type": "code",
      "metadata": {
        "trusted": true,
        "id": "WzVPIcYFgpw8",
        "colab_type": "code",
        "colab": {}
      },
      "source": [
        "val_percent = 0.15 \n",
        "num_rows = train_data.shape[0]\n",
        "\n",
        "val_size = int(num_rows * val_percent)\n",
        "train_size = num_rows - val_size\n",
        "\n",
        "\n",
        "train_ds, val_ds = random_split(dataset, [train_size, val_size])"
      ],
      "execution_count": null,
      "outputs": []
    },
    {
      "cell_type": "code",
      "metadata": {
        "trusted": true,
        "id": "6m0hcX38gpxB",
        "colab_type": "code",
        "colab": {}
      },
      "source": [
        "inputs_array_test, targets_array_test = dataframe_to_arrays(test_data)\n",
        "\n",
        "inputs_test = torch.tensor(inputs_array_test , dtype=torch.float32)\n",
        "targets_test = torch.tensor(targets_array_test , dtype=torch.long)\n",
        "\n",
        "test_ds = TensorDataset(inputs_test, targets_test)"
      ],
      "execution_count": null,
      "outputs": []
    },
    {
      "cell_type": "code",
      "metadata": {
        "trusted": true,
        "id": "XJl7NMEQgpxG",
        "colab_type": "code",
        "colab": {},
        "outputId": "bcbb88a1-d3da-4907-969d-c5cb5bc85dae"
      },
      "source": [
        "jovian.commit(project=project_name, environment=None)"
      ],
      "execution_count": null,
      "outputs": [
        {
          "output_type": "display_data",
          "data": {
            "text/plain": [
              "<IPython.core.display.Javascript object>"
            ],
            "application/javascript": [
              "window.require && require([\"base/js/namespace\"],function(Jupyter){Jupyter.notebook.save_checkpoint()})"
            ]
          },
          "metadata": {
            "tags": []
          }
        },
        {
          "output_type": "stream",
          "text": [
            "[jovian] Attempting to save notebook..\u001b[0m\n",
            "[jovian] Detected Kaggle notebook...\u001b[0m\n",
            "[jovian] Please enter your API key ( from https://jovian.ml/ ):\u001b[0m\n",
            "API KEY: ········\n",
            "[jovian] Uploading notebook to https://jovian.ml/sreejagaddamidi99/image-classification-on-american-sign-language-dataset\u001b[0m\n"
          ],
          "name": "stdout"
        },
        {
          "output_type": "display_data",
          "data": {
            "text/plain": [
              "<IPython.core.display.Javascript object>"
            ],
            "application/javascript": [
              "\n",
              "    require([\"base/js/namespace\"],function(Jupyter) {\n",
              "        var nbJson = JSON.stringify(Jupyter.notebook.toJSON());\n",
              "\n",
              "        console.log(\"[jovian] Extracted notebook JSON:\");\n",
              "        console.log(nbJson);\n",
              "\n",
              "        function jvnLog (data) {\n",
              "          console.log(\"Result from jovian.commit:\");\n",
              "          if (data.content.text) {\n",
              "              var result = JSON.parse(data.content.text.trim());\n",
              "              var msg = result['msg'];\n",
              "              var err = result['err'];\n",
              "              if (msg) {\n",
              "                  element.text(\"Committed successfully: \" + msg)\n",
              "              } else {\n",
              "                  alert(\"Notebook commit failed. Error: \" + (err || \"Unknown\"))\n",
              "              }\n",
              "          }\n",
              "          \n",
              "        };\n",
              "        \n",
              "        var pythonCode = `\n",
              "from contextlib import redirect_stdout, redirect_stderr\n",
              "from io import StringIO\n",
              "import json\n",
              " \n",
              "with open(\"image-classification-on-american-sign-language-dataset.ipynb\", 'w') as f:\n",
              "    f.write(r\"\"\"${nbJson}\"\"\")\n",
              "\n",
              "jvn_update = StringIO()\n",
              "jvn_update_err = StringIO()\n",
              "with redirect_stdout(jvn_update), redirect_stderr(jvn_update_err):\n",
              "    from jovian import commit\n",
              "\n",
              "jvn_f_out = StringIO()\n",
              "jvn_f_err = StringIO()\n",
              "with redirect_stdout(jvn_f_out), redirect_stderr(jvn_f_err):\n",
              "    jvn_msg = jovian.commit(message=None, files=[], outputs=[], environment=None, privacy='auto', filename='image-classification-on-american-sign-language-dataset.ipynb', project='image-classification-on-american-sign-language-dataset', new_project=None)\n",
              "\n",
              "print(json.dumps({'msg': jvn_msg, 'err': jvn_f_err.getvalue(), 'update': jvn_update.getvalue()}))\n",
              "        `;\n",
              "\n",
              "        console.log(\"Invoking jovian.commit\")\n",
              "        // console.log(pythonCode)\n",
              "\n",
              "        Jupyter.notebook.kernel.execute(pythonCode, { iopub: { output: jvnLog }});\n",
              "    });"
            ]
          },
          "metadata": {
            "tags": []
          }
        }
      ]
    },
    {
      "cell_type": "markdown",
      "metadata": {
        "id": "1slrFQj2gpxL",
        "colab_type": "text"
      },
      "source": [
        "# Models"
      ]
    },
    {
      "cell_type": "code",
      "metadata": {
        "trusted": true,
        "id": "mFrXTvE_gpxM",
        "colab_type": "code",
        "colab": {}
      },
      "source": [
        "import torch.nn as nn\n",
        "import torch.nn.functional as F"
      ],
      "execution_count": null,
      "outputs": []
    },
    {
      "cell_type": "code",
      "metadata": {
        "trusted": true,
        "id": "mPy7pdQPgpxR",
        "colab_type": "code",
        "colab": {}
      },
      "source": [
        "def accuracy(outputs, labels):\n",
        "    _, preds = torch.max(outputs, dim=1)\n",
        "    return torch.tensor(torch.sum(preds == labels).item() / len(preds))"
      ],
      "execution_count": null,
      "outputs": []
    },
    {
      "cell_type": "code",
      "metadata": {
        "trusted": true,
        "id": "5WAcACukgpxW",
        "colab_type": "code",
        "colab": {}
      },
      "source": [
        "def evaluate(model, val_loader):\n",
        "    outputs = [model.validation_step(batch) for batch in val_loader] \n",
        "    return model.validation_epoch_end(outputs)\n",
        "\n",
        "def fit(epochs, lr, model, train_loader, val_loader, opt_func=torch.optim.SGD):\n",
        "    \n",
        "    history=[]\n",
        "    optimizer = opt_func(model.parameters(), lr)\n",
        "    \n",
        "    for epoch in range(epochs):\n",
        "        \n",
        "        for batch in train_loader:\n",
        "            \n",
        "            loss = model.training_step(batch)\n",
        "            loss.backward()\n",
        "            optimizer.step()\n",
        "            optimizer.zero_grad()\n",
        "            \n",
        "        result = evaluate(model, val_loader)\n",
        "        model.epoch_end(epoch, result)\n",
        "        history.append(result)\n",
        "    \n",
        "    return history"
      ],
      "execution_count": null,
      "outputs": []
    },
    {
      "cell_type": "code",
      "metadata": {
        "trusted": true,
        "id": "eZQlB6qtgpxe",
        "colab_type": "code",
        "colab": {}
      },
      "source": [
        "class ImageClassificationBase(nn.Module):\n",
        "\n",
        "    def training_step(self, batch):\n",
        "        images, labels = batch\n",
        "        out = self(images)\n",
        "        loss = F.cross_entropy(out, labels)\n",
        "        return loss\n",
        "    \n",
        "    def validation_step(self, batch):\n",
        "        images, labels = batch\n",
        "        out = self(images)\n",
        "        loss = F.cross_entropy(out, labels)\n",
        "        acc = accuracy(out, labels)\n",
        "        return {'val_loss': loss.detach(), 'val_acc': acc.detach()}\n",
        "        \n",
        "    \n",
        "    def validation_epoch_end(self, outputs):\n",
        "        batch_losses = [x['val_loss'] for x in outputs]\n",
        "        epoch_loss = torch.stack(batch_losses).mean()   \n",
        "        batch_accs = [x['val_acc'] for x in outputs]\n",
        "        epoch_acc = torch.stack(batch_accs).mean()     \n",
        "        return {'val_loss': epoch_loss.item(), 'val_acc': epoch_acc.item()}\n",
        "    \n",
        "    def epoch_end(self, epoch, result):\n",
        "        print(\"Epoch [{}], val_loss: {:.4f}, val_acc: {:.4f}\".format(epoch, result['val_loss'], result['val_acc']))"
      ],
      "execution_count": null,
      "outputs": []
    },
    {
      "cell_type": "code",
      "metadata": {
        "trusted": true,
        "id": "wfRp9C9Ngpxk",
        "colab_type": "code",
        "colab": {}
      },
      "source": [
        "batch_size = 128"
      ],
      "execution_count": null,
      "outputs": []
    },
    {
      "cell_type": "markdown",
      "metadata": {
        "id": "0XRPQXZCgpxo",
        "colab_type": "text"
      },
      "source": [
        "## Logistic Regression"
      ]
    },
    {
      "cell_type": "code",
      "metadata": {
        "trusted": true,
        "id": "zRcIEJb_gpxp",
        "colab_type": "code",
        "colab": {}
      },
      "source": [
        "train_loader = DataLoader(train_ds, batch_size, shuffle=True)\n",
        "val_loader = DataLoader(val_ds, batch_size)\n",
        "test_loader = DataLoader(test_ds, batch_size) "
      ],
      "execution_count": null,
      "outputs": []
    },
    {
      "cell_type": "code",
      "metadata": {
        "trusted": true,
        "id": "7dXfzo0ggpxu",
        "colab_type": "code",
        "colab": {},
        "outputId": "ef0008c3-9dfd-4364-8e30-b0113d07fbf3"
      },
      "source": [
        "for xb, yb in train_loader:\n",
        "    print(\"inputs:\", xb)\n",
        "    print(\"targets:\", yb)\n",
        "    break"
      ],
      "execution_count": null,
      "outputs": [
        {
          "output_type": "stream",
          "text": [
            "inputs: tensor([[111., 115., 119.,  ..., 188., 173., 143.],\n",
            "        [130., 134., 139.,  ..., 196., 194., 191.],\n",
            "        [191., 195., 197.,  ..., 217., 216., 215.],\n",
            "        ...,\n",
            "        [191., 191., 192.,  ..., 201., 201., 200.],\n",
            "        [ 88.,  91.,  93.,  ..., 159., 158., 158.],\n",
            "        [195., 195., 196.,  ..., 200., 199., 198.]])\n",
            "targets: tensor([ 3, 20, 20,  8,  8, 10, 16,  5,  7, 22,  4,  5, 15,  7,  3, 12, 12, 11,\n",
            "         8, 14, 15, 13, 11, 22,  5,  6,  8, 21,  1,  7, 20,  8, 10, 14, 12, 10,\n",
            "        21,  1,  8, 20, 11, 10, 13, 23,  2, 12, 23, 10,  5, 13,  2, 15,  5, 11,\n",
            "         2,  5, 19, 20,  0,  7, 14,  3, 13, 22, 12, 23, 21,  8,  5, 11, 16,  0,\n",
            "        24, 15,  0, 24,  0, 24,  5, 21,  2, 19,  2,  2, 10, 14, 12, 12,  6, 18,\n",
            "        17, 10,  8, 13,  0, 22, 10,  0,  1,  5, 15,  1, 10, 12,  8, 22,  6, 18,\n",
            "        18,  8, 19, 20,  2, 19, 17, 19,  6, 22, 14, 11, 13, 23, 19, 17,  2,  4,\n",
            "         4,  6])\n"
          ],
          "name": "stdout"
        }
      ]
    },
    {
      "cell_type": "code",
      "metadata": {
        "trusted": true,
        "id": "pXJ_X-dAgpx0",
        "colab_type": "code",
        "colab": {}
      },
      "source": [
        "input_size = 28*28\n",
        "num_classes = 26"
      ],
      "execution_count": null,
      "outputs": []
    },
    {
      "cell_type": "code",
      "metadata": {
        "trusted": true,
        "id": "jaEfu41Pgpx5",
        "colab_type": "code",
        "colab": {}
      },
      "source": [
        "class aslLogisticRegression(ImageClassificationBase):\n",
        "    \n",
        "    def __init__(self):\n",
        "        super().__init__()\n",
        "        self.linear = nn.Linear(input_size, num_classes)\n",
        "    \n",
        "    def forward(self, xb):\n",
        "        xb = xb.reshape(-1, input_size)\n",
        "        out = self.linear(xb)\n",
        "        return out\n",
        "   "
      ],
      "execution_count": null,
      "outputs": []
    },
    {
      "cell_type": "code",
      "metadata": {
        "trusted": true,
        "id": "F4S85hBAgpx9",
        "colab_type": "code",
        "colab": {}
      },
      "source": [
        "model = aslLogisticRegression()"
      ],
      "execution_count": null,
      "outputs": []
    },
    {
      "cell_type": "code",
      "metadata": {
        "trusted": true,
        "id": "cwAeUsMegpyC",
        "colab_type": "code",
        "colab": {},
        "outputId": "1508c180-ee16-43f7-ca4a-0cdc94893a4e"
      },
      "source": [
        "evaluate(model, val_loader)"
      ],
      "execution_count": null,
      "outputs": [
        {
          "output_type": "execute_result",
          "data": {
            "text/plain": [
              "{'val_loss': 217.51661682128906, 'val_acc': 0.05421401560306549}"
            ]
          },
          "metadata": {
            "tags": []
          },
          "execution_count": 27
        }
      ]
    },
    {
      "cell_type": "code",
      "metadata": {
        "trusted": true,
        "id": "Exd71C2wgpyG",
        "colab_type": "code",
        "colab": {}
      },
      "source": [
        "learning_rate = 0.0001"
      ],
      "execution_count": null,
      "outputs": []
    },
    {
      "cell_type": "code",
      "metadata": {
        "trusted": true,
        "id": "Dsl0BT3wgpyI",
        "colab_type": "code",
        "colab": {},
        "outputId": "2fc5433d-eb7c-427b-aa2e-c59e224a748d"
      },
      "source": [
        "history = fit(70, learning_rate, model, train_loader, val_loader)"
      ],
      "execution_count": null,
      "outputs": [
        {
          "output_type": "stream",
          "text": [
            "Epoch [0], val_loss: 284.7807, val_acc: 0.1964\n",
            "Epoch [1], val_loss: 302.0431, val_acc: 0.1541\n",
            "Epoch [2], val_loss: 113.0114, val_acc: 0.2465\n",
            "Epoch [3], val_loss: 97.2373, val_acc: 0.4191\n",
            "Epoch [4], val_loss: 72.2428, val_acc: 0.5207\n",
            "Epoch [5], val_loss: 72.8490, val_acc: 0.5452\n",
            "Epoch [6], val_loss: 49.6758, val_acc: 0.5594\n",
            "Epoch [7], val_loss: 64.4416, val_acc: 0.5594\n",
            "Epoch [8], val_loss: 61.5529, val_acc: 0.5441\n",
            "Epoch [9], val_loss: 31.4530, val_acc: 0.6267\n",
            "Epoch [10], val_loss: 87.2438, val_acc: 0.3893\n",
            "Epoch [11], val_loss: 19.9911, val_acc: 0.7200\n",
            "Epoch [12], val_loss: 44.4695, val_acc: 0.4833\n",
            "Epoch [13], val_loss: 27.5902, val_acc: 0.5921\n",
            "Epoch [14], val_loss: 32.1829, val_acc: 0.5806\n",
            "Epoch [15], val_loss: 14.1369, val_acc: 0.7892\n",
            "Epoch [16], val_loss: 7.0380, val_acc: 0.7898\n",
            "Epoch [17], val_loss: 20.1146, val_acc: 0.7128\n",
            "Epoch [18], val_loss: 10.1700, val_acc: 0.8038\n",
            "Epoch [19], val_loss: 28.6137, val_acc: 0.6457\n",
            "Epoch [20], val_loss: 4.3280, val_acc: 0.8597\n",
            "Epoch [21], val_loss: 22.0252, val_acc: 0.6823\n",
            "Epoch [22], val_loss: 3.5429, val_acc: 0.8734\n",
            "Epoch [23], val_loss: 1.0392, val_acc: 0.9439\n",
            "Epoch [24], val_loss: 9.0992, val_acc: 0.7849\n",
            "Epoch [25], val_loss: 21.9502, val_acc: 0.6962\n",
            "Epoch [26], val_loss: 0.6547, val_acc: 0.9605\n",
            "Epoch [27], val_loss: 4.4488, val_acc: 0.8494\n",
            "Epoch [28], val_loss: 4.8504, val_acc: 0.8446\n",
            "Epoch [29], val_loss: 1.0865, val_acc: 0.9312\n",
            "Epoch [30], val_loss: 10.6196, val_acc: 0.8029\n",
            "Epoch [31], val_loss: 2.5832, val_acc: 0.8941\n",
            "Epoch [32], val_loss: 0.6126, val_acc: 0.9472\n",
            "Epoch [33], val_loss: 5.3637, val_acc: 0.8273\n",
            "Epoch [34], val_loss: 2.9942, val_acc: 0.8895\n",
            "Epoch [35], val_loss: 4.6041, val_acc: 0.9131\n",
            "Epoch [36], val_loss: 27.5083, val_acc: 0.6821\n",
            "Epoch [37], val_loss: 1.0644, val_acc: 0.9423\n",
            "Epoch [38], val_loss: 0.7273, val_acc: 0.9515\n",
            "Epoch [39], val_loss: 1.0681, val_acc: 0.9394\n",
            "Epoch [40], val_loss: 0.9448, val_acc: 0.9411\n",
            "Epoch [41], val_loss: 2.2994, val_acc: 0.9103\n",
            "Epoch [42], val_loss: 0.8954, val_acc: 0.9479\n",
            "Epoch [43], val_loss: 0.1657, val_acc: 0.9813\n",
            "Epoch [44], val_loss: 0.0815, val_acc: 0.9905\n",
            "Epoch [45], val_loss: 0.0803, val_acc: 0.9886\n",
            "Epoch [46], val_loss: 0.2265, val_acc: 0.9731\n",
            "Epoch [47], val_loss: 0.0345, val_acc: 0.9950\n",
            "Epoch [48], val_loss: 0.2475, val_acc: 0.9825\n",
            "Epoch [49], val_loss: 0.0161, val_acc: 0.9958\n"
          ],
          "name": "stdout"
        }
      ]
    },
    {
      "cell_type": "code",
      "metadata": {
        "trusted": true,
        "id": "vXO6q_FLgpyL",
        "colab_type": "code",
        "colab": {},
        "outputId": "8d070ee3-1370-4e56-d6e9-0b8839532b63"
      },
      "source": [
        "accuracies = [r['val_acc'] for r in history]\n",
        "plt.plot(accuracies, '-x')\n",
        "plt.xlabel('epoch')\n",
        "plt.ylabel('accuracy')\n",
        "plt.title('Accuracy vs. No. of epochs');"
      ],
      "execution_count": null,
      "outputs": [
        {
          "output_type": "display_data",
          "data": {
            "text/plain": [
              "<Figure size 432x288 with 1 Axes>"
            ],
            "image/png": "[encoded data removed]"
          },
          "metadata": {
            "tags": [],
            "needs_background": "light"
          }
        }
      ]
    },
    {
      "cell_type": "code",
      "metadata": {
        "trusted": true,
        "id": "3A4qQgp0gpyP",
        "colab_type": "code",
        "colab": {},
        "outputId": "10f9d026-43d8-4a16-d837-904e45890c94"
      },
      "source": [
        "result = evaluate(model, test_loader)\n",
        "result"
      ],
      "execution_count": null,
      "outputs": [
        {
          "output_type": "execute_result",
          "data": {
            "text/plain": [
              "{'val_loss': 15.590731620788574, 'val_acc': 0.6873629093170166}"
            ]
          },
          "metadata": {
            "tags": []
          },
          "execution_count": 31
        }
      ]
    },
    {
      "cell_type": "markdown",
      "metadata": {
        "id": "T609IQ01gpyT",
        "colab_type": "text"
      },
      "source": [
        "## Feedforward Neural Network"
      ]
    },
    {
      "cell_type": "code",
      "metadata": {
        "trusted": true,
        "id": "-tiB91vJgpyU",
        "colab_type": "code",
        "colab": {}
      },
      "source": [
        "train_loader = DataLoader(train_ds, batch_size, shuffle=True)\n",
        "val_loader = DataLoader(val_ds, batch_size)\n",
        "test_loader = DataLoader(test_ds, batch_size) "
      ],
      "execution_count": null,
      "outputs": []
    },
    {
      "cell_type": "code",
      "metadata": {
        "trusted": true,
        "id": "jWmWd_TtgpyX",
        "colab_type": "code",
        "colab": {}
      },
      "source": [
        "input_size = 28*28\n",
        "hidden_layer1 = 28*14\n",
        "hidden_layer2 = 100\n",
        "hidden_layer3 = 50\n",
        "num_classes = 26"
      ],
      "execution_count": null,
      "outputs": []
    },
    {
      "cell_type": "code",
      "metadata": {
        "trusted": true,
        "id": "0LBrI-kygpyb",
        "colab_type": "code",
        "colab": {}
      },
      "source": [
        "class ffNeuralNetwork(ImageClassificationBase):\n",
        "    \n",
        "    def __init__(self):\n",
        "        super().__init__()\n",
        "        self.linear1 = nn.Linear(input_size, hidden_layer1)\n",
        "        self.linear2 = nn.Linear(hidden_layer1, hidden_layer2)\n",
        "        self.linear3 = nn.Linear(hidden_layer2, hidden_layer3)\n",
        "        self.linear4 = nn.Linear(hidden_layer3, num_classes)\n",
        "    \n",
        "    def forward(self, xb):\n",
        "        xb = xb.reshape(-1, input_size)\n",
        "        out = self.linear1(xb)\n",
        "        out = F.relu(out)\n",
        "        out = self.linear2(out)\n",
        "        out = F.relu(out)\n",
        "        out = self.linear3(out)\n",
        "        out = F.relu(out)\n",
        "        out = self.linear4(out)\n",
        "        return out\n",
        "    "
      ],
      "execution_count": null,
      "outputs": []
    },
    {
      "cell_type": "code",
      "metadata": {
        "trusted": true,
        "id": "IDTe0Hvqgpye",
        "colab_type": "code",
        "colab": {}
      },
      "source": [
        "model = ffNeuralNetwork()"
      ],
      "execution_count": null,
      "outputs": []
    },
    {
      "cell_type": "code",
      "metadata": {
        "trusted": true,
        "id": "hm75qdG_gpyi",
        "colab_type": "code",
        "colab": {},
        "outputId": "c9af5ea4-078d-421a-b657-1d0852f9a739"
      },
      "source": [
        "evaluate(model, val_loader)"
      ],
      "execution_count": null,
      "outputs": [
        {
          "output_type": "execute_result",
          "data": {
            "text/plain": [
              "{'val_loss': 11.512927055358887, 'val_acc': 0.03503787890076637}"
            ]
          },
          "metadata": {
            "tags": []
          },
          "execution_count": 36
        }
      ]
    },
    {
      "cell_type": "code",
      "metadata": {
        "trusted": true,
        "id": "2xos0OBBgpyk",
        "colab_type": "code",
        "colab": {}
      },
      "source": [
        "learning_rate = 0.0001"
      ],
      "execution_count": null,
      "outputs": []
    },
    {
      "cell_type": "code",
      "metadata": {
        "trusted": true,
        "id": "AdjIEqlJgpyn",
        "colab_type": "code",
        "colab": {},
        "outputId": "03e73f66-1647-4e65-d7b8-a89b460b9a8b"
      },
      "source": [
        "history = fit(70, learning_rate, model, train_loader, val_loader)"
      ],
      "execution_count": null,
      "outputs": [
        {
          "output_type": "stream",
          "text": [
            "Epoch [0], val_loss: 3.0071, val_acc: 0.1320\n",
            "Epoch [1], val_loss: 2.8230, val_acc: 0.1656\n",
            "Epoch [2], val_loss: 2.5423, val_acc: 0.2523\n",
            "Epoch [3], val_loss: 2.4127, val_acc: 0.2809\n",
            "Epoch [4], val_loss: 2.2291, val_acc: 0.3363\n",
            "Epoch [5], val_loss: 2.1269, val_acc: 0.3584\n",
            "Epoch [6], val_loss: 1.9672, val_acc: 0.4150\n",
            "Epoch [7], val_loss: 1.8765, val_acc: 0.4482\n",
            "Epoch [8], val_loss: 1.7665, val_acc: 0.4867\n",
            "Epoch [9], val_loss: 1.6962, val_acc: 0.5232\n",
            "Epoch [10], val_loss: 1.6319, val_acc: 0.5203\n",
            "Epoch [11], val_loss: 1.6740, val_acc: 0.5178\n",
            "Epoch [12], val_loss: 1.5320, val_acc: 0.5612\n",
            "Epoch [13], val_loss: 1.4158, val_acc: 0.5922\n",
            "Epoch [14], val_loss: 1.3809, val_acc: 0.6109\n",
            "Epoch [15], val_loss: 1.3530, val_acc: 0.6182\n",
            "Epoch [16], val_loss: 1.2917, val_acc: 0.6266\n",
            "Epoch [17], val_loss: 1.2425, val_acc: 0.6486\n",
            "Epoch [18], val_loss: 1.1995, val_acc: 0.6516\n",
            "Epoch [19], val_loss: 1.1656, val_acc: 0.6700\n",
            "Epoch [20], val_loss: 1.1203, val_acc: 0.6742\n",
            "Epoch [21], val_loss: 1.0727, val_acc: 0.7013\n",
            "Epoch [22], val_loss: 1.0717, val_acc: 0.6889\n",
            "Epoch [23], val_loss: 1.0386, val_acc: 0.7152\n",
            "Epoch [24], val_loss: 0.9760, val_acc: 0.7344\n",
            "Epoch [25], val_loss: 0.9610, val_acc: 0.7287\n",
            "Epoch [26], val_loss: 0.9494, val_acc: 0.7379\n",
            "Epoch [27], val_loss: 0.8921, val_acc: 0.7651\n",
            "Epoch [28], val_loss: 0.9343, val_acc: 0.7174\n",
            "Epoch [29], val_loss: 0.8946, val_acc: 0.7608\n",
            "Epoch [30], val_loss: 0.8587, val_acc: 0.7677\n",
            "Epoch [31], val_loss: 0.8112, val_acc: 0.7921\n",
            "Epoch [32], val_loss: 0.7979, val_acc: 0.7730\n",
            "Epoch [33], val_loss: 0.7890, val_acc: 0.7788\n",
            "Epoch [34], val_loss: 0.7441, val_acc: 0.8038\n",
            "Epoch [35], val_loss: 0.7309, val_acc: 0.8004\n",
            "Epoch [36], val_loss: 0.7083, val_acc: 0.8096\n",
            "Epoch [37], val_loss: 0.6907, val_acc: 0.8179\n",
            "Epoch [38], val_loss: 0.6822, val_acc: 0.8193\n",
            "Epoch [39], val_loss: 0.6399, val_acc: 0.8446\n",
            "Epoch [40], val_loss: 0.6385, val_acc: 0.8401\n",
            "Epoch [41], val_loss: 0.6252, val_acc: 0.8416\n",
            "Epoch [42], val_loss: 0.6393, val_acc: 0.8363\n",
            "Epoch [43], val_loss: 0.5817, val_acc: 0.8586\n",
            "Epoch [44], val_loss: 0.5903, val_acc: 0.8496\n",
            "Epoch [45], val_loss: 0.5868, val_acc: 0.8515\n",
            "Epoch [46], val_loss: 0.5525, val_acc: 0.8647\n",
            "Epoch [47], val_loss: 0.5417, val_acc: 0.8696\n",
            "Epoch [48], val_loss: 0.5319, val_acc: 0.8681\n",
            "Epoch [49], val_loss: 0.5291, val_acc: 0.8642\n"
          ],
          "name": "stdout"
        }
      ]
    },
    {
      "cell_type": "code",
      "metadata": {
        "trusted": true,
        "id": "8Nvt-Nhfgpyq",
        "colab_type": "code",
        "colab": {},
        "outputId": "6ebe85c7-1359-4a30-b562-85c8de822a92"
      },
      "source": [
        "accuracies = [r['val_acc'] for r in history]\n",
        "plt.plot(accuracies, '-x')\n",
        "plt.xlabel('epoch')\n",
        "plt.ylabel('accuracy')\n",
        "plt.title('Accuracy vs. No. of epochs');"
      ],
      "execution_count": null,
      "outputs": [
        {
          "output_type": "display_data",
          "data": {
            "text/plain": [
              "<Figure size 432x288 with 1 Axes>"
            ],
            "image/png": "[encoded data removed]"
          },
          "metadata": {
            "tags": [],
            "needs_background": "light"
          }
        }
      ]
    },
    {
      "cell_type": "code",
      "metadata": {
        "trusted": true,
        "id": "p_-FsA6Dgpys",
        "colab_type": "code",
        "colab": {},
        "outputId": "1b898484-a5bd-44b3-b9f2-51be4a59b41c"
      },
      "source": [
        "result = evaluate(model, test_loader)\n",
        "result"
      ],
      "execution_count": null,
      "outputs": [
        {
          "output_type": "execute_result",
          "data": {
            "text/plain": [
              "{'val_loss': 1.225773811340332, 'val_acc': 0.6315789222717285}"
            ]
          },
          "metadata": {
            "tags": []
          },
          "execution_count": 40
        }
      ]
    },
    {
      "cell_type": "markdown",
      "metadata": {
        "id": "rs1_N1i6gpyw",
        "colab_type": "text"
      },
      "source": [
        "# To load Data and Model to GPU "
      ]
    },
    {
      "cell_type": "code",
      "metadata": {
        "trusted": true,
        "id": "xIo66OPAgpyw",
        "colab_type": "code",
        "colab": {}
      },
      "source": [
        "def get_default_device():\n",
        "    \n",
        "    if torch.cuda.is_available():\n",
        "        return torch.device('cuda')\n",
        "    else:\n",
        "        return torch.device('cpu')\n",
        "    \n",
        "def to_device(data, device):\n",
        "    \n",
        "    if isinstance(data, (list,tuple)):\n",
        "        return [to_device(x, device) for x in data]\n",
        "    return data.to(device, non_blocking=True)\n",
        "\n",
        "class DeviceDataLoader():\n",
        "    \n",
        "    def __init__(self, dl, device):\n",
        "        self.dl = dl\n",
        "        self.device = device\n",
        "        \n",
        "    def __iter__(self):\n",
        "        \n",
        "        for b in self.dl: \n",
        "            yield to_device(b, self.device)\n",
        "\n",
        "    def __len__(self):\n",
        "        \n",
        "        return len(self.dl)"
      ],
      "execution_count": null,
      "outputs": []
    },
    {
      "cell_type": "markdown",
      "metadata": {
        "id": "lTPJhiRsgpy0",
        "colab_type": "text"
      },
      "source": [
        "## Convolution Neural Network"
      ]
    },
    {
      "cell_type": "code",
      "metadata": {
        "trusted": true,
        "id": "hniUy5xygpy0",
        "colab_type": "code",
        "colab": {}
      },
      "source": [
        "device = get_default_device()"
      ],
      "execution_count": null,
      "outputs": []
    },
    {
      "cell_type": "code",
      "metadata": {
        "trusted": true,
        "id": "nuCUJ6G4gpy4",
        "colab_type": "code",
        "colab": {}
      },
      "source": [
        "train_loader = DataLoader(train_ds, batch_size, shuffle=True)\n",
        "val_loader = DataLoader(val_ds, batch_size)\n",
        "test_loader = DataLoader(test_ds, batch_size) "
      ],
      "execution_count": null,
      "outputs": []
    },
    {
      "cell_type": "code",
      "metadata": {
        "trusted": true,
        "id": "OlRuWp9Bgpy7",
        "colab_type": "code",
        "colab": {}
      },
      "source": [
        "train_dl = DeviceDataLoader(train_loader, device)\n",
        "val_dl = DeviceDataLoader(val_loader, device)"
      ],
      "execution_count": null,
      "outputs": []
    },
    {
      "cell_type": "code",
      "metadata": {
        "trusted": true,
        "id": "FOvxtg0lgpy_",
        "colab_type": "code",
        "colab": {}
      },
      "source": [
        "num_classes = 26"
      ],
      "execution_count": null,
      "outputs": []
    },
    {
      "cell_type": "code",
      "metadata": {
        "trusted": true,
        "id": "cQIsRwKQgpzC",
        "colab_type": "code",
        "colab": {}
      },
      "source": [
        "class CNNModel(ImageClassificationBase):\n",
        "    \n",
        "    def __init__(self):\n",
        "        \n",
        "        super().__init__()\n",
        "        \n",
        "        self.network = nn.Sequential(\n",
        "        \n",
        "            nn.Conv2d(1, 32, kernel_size=3, padding=1),\n",
        "            nn.ReLU(),\n",
        "            nn.Conv2d(32, 64, kernel_size=3, stride=1, padding=1),\n",
        "            nn.ReLU(),\n",
        "            nn.MaxPool2d(2, 2),\n",
        "\n",
        "            nn.Conv2d(64, 128, kernel_size=3, stride=1, padding=1),\n",
        "            nn.ReLU(),\n",
        "            nn.Conv2d(128, 128, kernel_size=3, stride=1, padding=1),\n",
        "            nn.ReLU(),\n",
        "            nn.MaxPool2d(2, 2), \n",
        "\n",
        "\n",
        "            nn.Flatten(), \n",
        "            nn.Linear(128*7*7, 1024),\n",
        "            nn.ReLU(),\n",
        "            nn.Linear(1024, 512),\n",
        "            nn.ReLU(),\n",
        "            nn.Linear(512, num_classes)\n",
        "        \n",
        "        )\n",
        "        \n",
        "        \n",
        "    def forward(self, xb):\n",
        "        \n",
        "        xb = xb.reshape(-1,1,28,28)\n",
        "        return self.network(xb)"
      ],
      "execution_count": null,
      "outputs": []
    },
    {
      "cell_type": "code",
      "metadata": {
        "trusted": true,
        "id": "1EmjMjwVgpzG",
        "colab_type": "code",
        "colab": {}
      },
      "source": [
        "model = to_device(CNNModel(), device)"
      ],
      "execution_count": null,
      "outputs": []
    },
    {
      "cell_type": "code",
      "metadata": {
        "trusted": true,
        "id": "cxang7pPgpzL",
        "colab_type": "code",
        "colab": {},
        "outputId": "ec3b16c3-dedd-4a81-cb1a-88f4b2e7633f"
      },
      "source": [
        "evaluate(model, val_dl)"
      ],
      "execution_count": null,
      "outputs": [
        {
          "output_type": "execute_result",
          "data": {
            "text/plain": [
              "{'val_loss': 3.388793468475342, 'val_acc': 0.045841943472623825}"
            ]
          },
          "metadata": {
            "tags": []
          },
          "execution_count": 60
        }
      ]
    },
    {
      "cell_type": "code",
      "metadata": {
        "trusted": true,
        "id": "ZXvTMoN_gpzO",
        "colab_type": "code",
        "colab": {}
      },
      "source": [
        "learning_rate = 0.0001"
      ],
      "execution_count": null,
      "outputs": []
    },
    {
      "cell_type": "code",
      "metadata": {
        "trusted": true,
        "id": "jp4lQfLjgpzS",
        "colab_type": "code",
        "colab": {},
        "outputId": "e5994031-db79-4d4b-8347-8735cbe3f734"
      },
      "source": [
        "history = fit(70, learning_rate, model, train_dl, val_dl)"
      ],
      "execution_count": null,
      "outputs": [
        {
          "output_type": "stream",
          "text": [
            "Epoch [0], val_loss: 3.0828, val_acc: 0.1696\n",
            "Epoch [1], val_loss: 2.9858, val_acc: 0.2198\n",
            "Epoch [2], val_loss: 2.8729, val_acc: 0.2219\n",
            "Epoch [3], val_loss: 2.7163, val_acc: 0.3036\n",
            "Epoch [4], val_loss: 2.5688, val_acc: 0.2425\n",
            "Epoch [5], val_loss: 2.3446, val_acc: 0.3082\n",
            "Epoch [6], val_loss: 2.1737, val_acc: 0.3346\n",
            "Epoch [7], val_loss: 2.0714, val_acc: 0.3462\n",
            "Epoch [8], val_loss: 2.0271, val_acc: 0.3735\n",
            "Epoch [9], val_loss: 2.2530, val_acc: 0.3200\n"
          ],
          "name": "stdout"
        }
      ]
    },
    {
      "cell_type": "code",
      "metadata": {
        "trusted": true,
        "id": "yI7qnOyVgpzU",
        "colab_type": "code",
        "colab": {},
        "outputId": "cefaa6ed-e75c-4df3-8d81-b29bfdcd4198"
      },
      "source": [
        "accuracies = [r['val_acc'] for r in history]\n",
        "plt.plot(accuracies, '-x')\n",
        "plt.xlabel('epoch')\n",
        "plt.ylabel('accuracy')\n",
        "plt.title('Accuracy vs. No. of epochs');"
      ],
      "execution_count": null,
      "outputs": [
        {
          "output_type": "display_data",
          "data": {
            "text/plain": [
              "<Figure size 432x288 with 1 Axes>"
            ],
            "image/png": "[encoded data removed]"
          },
          "metadata": {
            "tags": [],
            "needs_background": "light"
          }
        }
      ]
    },
    {
      "cell_type": "code",
      "metadata": {
        "trusted": true,
        "id": "B_WTp7kWgpzW",
        "colab_type": "code",
        "colab": {}
      },
      "source": [
        "test_dl = DeviceDataLoader(test_loader, device)"
      ],
      "execution_count": null,
      "outputs": []
    },
    {
      "cell_type": "code",
      "metadata": {
        "trusted": true,
        "id": "OfxHLO4Egpza",
        "colab_type": "code",
        "colab": {},
        "outputId": "1b3ab35f-5212-47bb-ab14-03d693a51804"
      },
      "source": [
        "result = evaluate(model, test_dl)\n",
        "result"
      ],
      "execution_count": null,
      "outputs": [
        {
          "output_type": "execute_result",
          "data": {
            "text/plain": [
              "{'val_loss': 0.5021142363548279, 'val_acc': 0.8456688523292542}"
            ]
          },
          "metadata": {
            "tags": []
          },
          "execution_count": 76
        }
      ]
    },
    {
      "cell_type": "code",
      "metadata": {
        "trusted": true,
        "id": "YT6_w4w-gpzf",
        "colab_type": "code",
        "colab": {}
      },
      "source": [
        "jovian.commit(project=project_name, environment=None)"
      ],
      "execution_count": null,
      "outputs": []
    }
  ]
}